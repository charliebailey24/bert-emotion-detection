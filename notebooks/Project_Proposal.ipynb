{
 "cells": [
  {
   "cell_type": "markdown",
   "metadata": {},
   "source": [
    "# Natural Language Processing Final Project Proposal\n",
    "\n",
    "#### Peter Charles Bailey (Charlie)\n",
    "#### CU ID: peba2926"
   ]
  },
  {
   "cell_type": "markdown",
   "metadata": {},
   "source": [
    "### Project Proposal: Emotion Detection in Text\n",
    "\n",
    "Emotion is one of the crucial human feedback mechanisms that is difficult to transmit with it's full potential in the written form. This project aims to fine-tune a **BERT** model to detect and distinguish between the 6 universally recognized human emotions of **Anger, Disgust, Fear, Joy, Sadness, Surprise**. Using a dataset such as the **dair-ai/emotion** dataset, the model will be trained to detect emotions in posts such as those on social media sites like **X**.\n",
    "\n",
    "To evaluate the model's effectiveness, we will measure the **accuracy** and **F1 scores** on a test dataset compared against a ground truth emotion-labeled dataset.\n",
    "\n",
    "In our increasingly digital world, being able to accurately detect emotion in text is crucial for effective communication. Exploring the ability of transformer-based models to help humans better communicate via the written medium opens the door to numerous potential use cases that could help people better understand each other in an increasingly divided world."
   ]
  }
 ],
 "metadata": {
  "kernelspec": {
   "display_name": "Python 3.11.8 (NLP ENV)",
   "language": "python",
   "name": "nlp_env"
  },
  "language_info": {
   "name": "python",
   "version": "3.11.8"
  }
 },
 "nbformat": 4,
 "nbformat_minor": 2
}
